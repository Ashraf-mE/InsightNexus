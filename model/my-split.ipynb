{
 "cells": [
  {
   "cell_type": "code",
   "execution_count": 1,
   "metadata": {},
   "outputs": [],
   "source": [
    "import pandas as pd\n",
    "from sklearn.model_selection import train_test_split\n",
    "import shutil\n",
    "import os\n"
   ]
  },
  {
   "cell_type": "code",
   "execution_count": 2,
   "metadata": {},
   "outputs": [
    {
     "name": "stdout",
     "output_type": "stream",
     "text": [
      "Training set size: 37596 images\n",
      "Test set size: 9400 images\n"
     ]
    }
   ],
   "source": [
    "# Load the dataset\n",
    "df = pd.read_csv(r\"C:\\Users\\ramas\\Downloads\\dataverse_files\\Aug2.0_Meta_all.csv\")  # Replace 'annotations.csv' with your file path\n",
    "\n",
    "# Split the dataset into training and test sets\n",
    "train_df, test_df = train_test_split(df, test_size=0.2, stratify=df['dx'], random_state=42)\n",
    "\n",
    "# Save the splits into separate CSV files\n",
    "train_df.to_csv('train.csv', index=False)\n",
    "test_df.to_csv('test.csv', index=False)\n",
    "\n",
    "# Assuming images are stored in a directory called 'images/'\n",
    "image_dir = r\"C:\\Users\\ramas\\Downloads\\dataverse_files\\Aug2.0\"  # Replace with your actual image directory path\n",
    "train_dir = 'train_images/'\n",
    "test_dir = 'test_images/'\n",
    "\n",
    "# Create directories if they don't exist\n",
    "os.makedirs(train_dir, exist_ok=True)\n",
    "os.makedirs(test_dir, exist_ok=True)\n",
    "\n",
    "# Copy training images to train_images/\n",
    "for img_id in train_df['image_id']:\n",
    "    src = os.path.join(image_dir, img_id + '.jpg')  # Assuming images are in .jpg format\n",
    "    dst = os.path.join(train_dir, img_id + '.jpg')\n",
    "    shutil.copyfile(src, dst)\n",
    "\n",
    "# Copy testing images to test_images/\n",
    "for img_id in test_df['image_id']:\n",
    "    src = os.path.join(image_dir, img_id + '.jpg')\n",
    "    dst = os.path.join(test_dir, img_id + '.jpg')\n",
    "    shutil.copyfile(src, dst)\n",
    "\n",
    "print(f\"Training set size: {len(train_df)} images\")\n",
    "print(f\"Test set size: {len(test_df)} images\")\n"
   ]
  },
  {
   "cell_type": "code",
   "execution_count": 7,
   "metadata": {},
   "outputs": [
    {
     "data": {
      "text/plain": [
       "dx\n",
       "df       5381\n",
       "vasc     5377\n",
       "bcc      5372\n",
       "mel      5369\n",
       "bkl      5367\n",
       "akiec    5366\n",
       "nv       5364\n",
       "Name: count, dtype: int64"
      ]
     },
     "execution_count": 7,
     "metadata": {},
     "output_type": "execute_result"
    }
   ],
   "source": [
    "df = pd.read_csv(\"train.csv\")\n",
    "df['dx'].value_counts()"
   ]
  }
 ],
 "metadata": {
  "kernelspec": {
   "display_name": "Python 3",
   "language": "python",
   "name": "python3"
  },
  "language_info": {
   "codemirror_mode": {
    "name": "ipython",
    "version": 3
   },
   "file_extension": ".py",
   "mimetype": "text/x-python",
   "name": "python",
   "nbconvert_exporter": "python",
   "pygments_lexer": "ipython3",
   "version": "3.11.6"
  }
 },
 "nbformat": 4,
 "nbformat_minor": 2
}
