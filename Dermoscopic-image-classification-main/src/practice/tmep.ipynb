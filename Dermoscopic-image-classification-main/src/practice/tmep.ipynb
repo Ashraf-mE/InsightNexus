{
 "cells": [
  {
   "cell_type": "code",
   "execution_count": 1,
   "metadata": {},
   "outputs": [
    {
     "name": "stdout",
     "output_type": "stream",
     "text": [
      "No overlap found. Training and validation sets are genuinely separate.\n"
     ]
    }
   ],
   "source": [
    "import pandas as pd\n",
    "\n",
    "# Load the training and validation annotations\n",
    "train_df = pd.read_csv('C:/Users/ramas/Downloads/Dermoscopic-image-classification-main/my-data/csv/train.csv')\n",
    "val_df = pd.read_csv('C:/Users/ramas/Downloads/Dermoscopic-image-classification-main/my-data/csv/test.csv')\n",
    "\n",
    "# Extract image IDs\n",
    "train_image_ids = set(train_df['image_id'])\n",
    "val_image_ids = set(val_df['image_id'])\n",
    "\n",
    "# Check for overlap\n",
    "overlap = train_image_ids.intersection(val_image_ids)\n",
    "\n",
    "if overlap:\n",
    "    print(f\"Overlap found! {len(overlap)} images are in both training and validation sets.\")\n",
    "    print(\"Example of overlapping image IDs:\", list(overlap)[:10])\n",
    "else:\n",
    "    print(\"No overlap found. Training and validation sets are genuinely separate.\")\n"
   ]
  }
 ],
 "metadata": {
  "kernelspec": {
   "display_name": "dermcv",
   "language": "python",
   "name": "python3"
  },
  "language_info": {
   "codemirror_mode": {
    "name": "ipython",
    "version": 3
   },
   "file_extension": ".py",
   "mimetype": "text/x-python",
   "name": "python",
   "nbconvert_exporter": "python",
   "pygments_lexer": "ipython3",
   "version": "3.7.12"
  }
 },
 "nbformat": 4,
 "nbformat_minor": 2
}
